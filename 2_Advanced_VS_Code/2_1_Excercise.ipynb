{
 "cells": [
  {
   "cell_type": "code",
   "execution_count": 1,
   "metadata": {},
   "outputs": [],
   "source": [
    "# In this exercise we have to plot a graph representing comparision bwtween median salaries of data analyst, data scientist, data engineer \n",
    "# of top 6 job countries\n",
    "# Load data from \"lukebarousse/data_jobs\" posted on huggingface"
   ]
  },
  {
   "cell_type": "code",
   "execution_count": 2,
   "metadata": {},
   "outputs": [
    {
     "name": "stderr",
     "output_type": "stream",
     "text": [
      "c:\\Users\\tusha\\anaconda3\\envs\\luke_python_course\\Lib\\site-packages\\tqdm\\auto.py:21: TqdmWarning: IProgress not found. Please update jupyter and ipywidgets. See https://ipywidgets.readthedocs.io/en/stable/user_install.html\n",
      "  from .autonotebook import tqdm as notebook_tqdm\n",
      "Downloading readme: 100%|██████████| 28.0/28.0 [00:00<00:00, 28.0kB/s]\n",
      "Downloading data: 100%|██████████| 231M/231M [00:09<00:00, 24.3MB/s] \n",
      "Generating train split: 100%|██████████| 785741/785741 [00:15<00:00, 49524.43 examples/s]\n"
     ]
    },
    {
     "name": "stdout",
     "output_type": "stream",
     "text": [
      "<class 'pandas.core.frame.DataFrame'>\n",
      "RangeIndex: 785741 entries, 0 to 785740\n",
      "Data columns (total 17 columns):\n",
      " #   Column                 Non-Null Count   Dtype  \n",
      "---  ------                 --------------   -----  \n",
      " 0   job_title_short        785741 non-null  object \n",
      " 1   job_title              785740 non-null  object \n",
      " 2   job_location           784696 non-null  object \n",
      " 3   job_via                785733 non-null  object \n",
      " 4   job_schedule_type      773074 non-null  object \n",
      " 5   job_work_from_home     785741 non-null  bool   \n",
      " 6   search_location        785741 non-null  object \n",
      " 7   job_posted_date        785741 non-null  object \n",
      " 8   job_no_degree_mention  785741 non-null  bool   \n",
      " 9   job_health_insurance   785741 non-null  bool   \n",
      " 10  job_country            785692 non-null  object \n",
      " 11  salary_rate            33067 non-null   object \n",
      " 12  salary_year_avg        22003 non-null   float64\n",
      " 13  salary_hour_avg        10662 non-null   float64\n",
      " 14  company_name           785723 non-null  object \n",
      " 15  job_skills             668704 non-null  object \n",
      " 16  job_type_skills        668704 non-null  object \n",
      "dtypes: bool(3), float64(2), object(12)\n",
      "memory usage: 86.2+ MB\n"
     ]
    }
   ],
   "source": [
    "from datasets import load_dataset\n",
    "import pandas as pd\n",
    "import numpy as np\n",
    "import matplotlib.pyplot as plt\n",
    "\n",
    "data = load_dataset(\"lukebarousse/data_jobs\")\n",
    "df_og = data[\"train\"].to_pandas()\n",
    "\n",
    "df_og.info()"
   ]
  },
  {
   "cell_type": "code",
   "execution_count": 3,
   "metadata": {},
   "outputs": [],
   "source": [
    "df = df_og.copy()"
   ]
  },
  {
   "cell_type": "code",
   "execution_count": 4,
   "metadata": {},
   "outputs": [],
   "source": [
    "df_clean = df.dropna( subset = \"salary_year_avg\")"
   ]
  },
  {
   "cell_type": "code",
   "execution_count": 5,
   "metadata": {},
   "outputs": [
    {
     "name": "stdout",
     "output_type": "stream",
     "text": [
      "<class 'pandas.core.frame.DataFrame'>\n",
      "Index: 22003 entries, 28 to 785692\n",
      "Data columns (total 17 columns):\n",
      " #   Column                 Non-Null Count  Dtype  \n",
      "---  ------                 --------------  -----  \n",
      " 0   job_title_short        22003 non-null  object \n",
      " 1   job_title              22003 non-null  object \n",
      " 2   job_location           21723 non-null  object \n",
      " 3   job_via                22003 non-null  object \n",
      " 4   job_schedule_type      21987 non-null  object \n",
      " 5   job_work_from_home     22003 non-null  bool   \n",
      " 6   search_location        22003 non-null  object \n",
      " 7   job_posted_date        22003 non-null  object \n",
      " 8   job_no_degree_mention  22003 non-null  bool   \n",
      " 9   job_health_insurance   22003 non-null  bool   \n",
      " 10  job_country            22003 non-null  object \n",
      " 11  salary_rate            22003 non-null  object \n",
      " 12  salary_year_avg        22003 non-null  float64\n",
      " 13  salary_hour_avg        0 non-null      float64\n",
      " 14  company_name           22003 non-null  object \n",
      " 15  job_skills             20170 non-null  object \n",
      " 16  job_type_skills        20170 non-null  object \n",
      "dtypes: bool(3), float64(2), object(12)\n",
      "memory usage: 2.6+ MB\n"
     ]
    }
   ],
   "source": [
    "df_clean.info()"
   ]
  },
  {
   "cell_type": "code",
   "execution_count": 6,
   "metadata": {},
   "outputs": [
    {
     "data": {
      "text/plain": [
       "True"
      ]
     },
     "execution_count": 6,
     "metadata": {},
     "output_type": "execute_result"
    }
   ],
   "source": [
    "df_clean.duplicated().any()"
   ]
  },
  {
   "cell_type": "code",
   "execution_count": 7,
   "metadata": {},
   "outputs": [],
   "source": [
    "df_clean = df_clean.drop_duplicates()"
   ]
  },
  {
   "cell_type": "code",
   "execution_count": 8,
   "metadata": {},
   "outputs": [
    {
     "name": "stdout",
     "output_type": "stream",
     "text": [
      "<class 'pandas.core.frame.DataFrame'>\n",
      "Index: 22002 entries, 28 to 785692\n",
      "Data columns (total 17 columns):\n",
      " #   Column                 Non-Null Count  Dtype  \n",
      "---  ------                 --------------  -----  \n",
      " 0   job_title_short        22002 non-null  object \n",
      " 1   job_title              22002 non-null  object \n",
      " 2   job_location           21722 non-null  object \n",
      " 3   job_via                22002 non-null  object \n",
      " 4   job_schedule_type      21986 non-null  object \n",
      " 5   job_work_from_home     22002 non-null  bool   \n",
      " 6   search_location        22002 non-null  object \n",
      " 7   job_posted_date        22002 non-null  object \n",
      " 8   job_no_degree_mention  22002 non-null  bool   \n",
      " 9   job_health_insurance   22002 non-null  bool   \n",
      " 10  job_country            22002 non-null  object \n",
      " 11  salary_rate            22002 non-null  object \n",
      " 12  salary_year_avg        22002 non-null  float64\n",
      " 13  salary_hour_avg        0 non-null      float64\n",
      " 14  company_name           22002 non-null  object \n",
      " 15  job_skills             20169 non-null  object \n",
      " 16  job_type_skills        20169 non-null  object \n",
      "dtypes: bool(3), float64(2), object(12)\n",
      "memory usage: 2.6+ MB\n"
     ]
    }
   ],
   "source": [
    "df_clean.info()"
   ]
  },
  {
   "cell_type": "code",
   "execution_count": 9,
   "metadata": {},
   "outputs": [
    {
     "name": "stderr",
     "output_type": "stream",
     "text": [
      "C:\\Users\\tusha\\AppData\\Local\\Temp\\ipykernel_5416\\3295153579.py:1: UserWarning: Boolean Series key will be reindexed to match DataFrame index.\n",
      "  df_clean = df_clean[(df[\"job_title_short\"] == \"Data Analyst\") | (df[\"job_title_short\"] == \"Data Scientist\") | (df[\"job_title_short\"] == \"Data Engineer\")]\n"
     ]
    }
   ],
   "source": [
    "df_clean = df_clean[(df[\"job_title_short\"] == \"Data Analyst\") | (df[\"job_title_short\"] == \"Data Scientist\") | (df[\"job_title_short\"] == \"Data Engineer\")]"
   ]
  },
  {
   "cell_type": "code",
   "execution_count": 10,
   "metadata": {},
   "outputs": [
    {
     "name": "stdout",
     "output_type": "stream",
     "text": [
      "<class 'pandas.core.frame.DataFrame'>\n",
      "Index: 15872 entries, 28 to 785692\n",
      "Data columns (total 17 columns):\n",
      " #   Column                 Non-Null Count  Dtype  \n",
      "---  ------                 --------------  -----  \n",
      " 0   job_title_short        15872 non-null  object \n",
      " 1   job_title              15872 non-null  object \n",
      " 2   job_location           15671 non-null  object \n",
      " 3   job_via                15872 non-null  object \n",
      " 4   job_schedule_type      15860 non-null  object \n",
      " 5   job_work_from_home     15872 non-null  bool   \n",
      " 6   search_location        15872 non-null  object \n",
      " 7   job_posted_date        15872 non-null  object \n",
      " 8   job_no_degree_mention  15872 non-null  bool   \n",
      " 9   job_health_insurance   15872 non-null  bool   \n",
      " 10  job_country            15872 non-null  object \n",
      " 11  salary_rate            15872 non-null  object \n",
      " 12  salary_year_avg        15872 non-null  float64\n",
      " 13  salary_hour_avg        0 non-null      float64\n",
      " 14  company_name           15872 non-null  object \n",
      " 15  job_skills             14491 non-null  object \n",
      " 16  job_type_skills        14491 non-null  object \n",
      "dtypes: bool(3), float64(2), object(12)\n",
      "memory usage: 1.9+ MB\n"
     ]
    }
   ],
   "source": [
    "df_clean.info()"
   ]
  },
  {
   "cell_type": "code",
   "execution_count": 11,
   "metadata": {},
   "outputs": [],
   "source": [
    "top_countries = df_clean.job_country.value_counts().head(6).index"
   ]
  },
  {
   "cell_type": "code",
   "execution_count": 12,
   "metadata": {},
   "outputs": [],
   "source": [
    "df_clean_pt = df_clean.pivot_table(index = \"job_country\", columns = \"job_title_short\", values = \"salary_year_avg\", aggfunc = \"median\")"
   ]
  },
  {
   "cell_type": "code",
   "execution_count": 13,
   "metadata": {},
   "outputs": [
    {
     "data": {
      "text/html": [
       "<div>\n",
       "<style scoped>\n",
       "    .dataframe tbody tr th:only-of-type {\n",
       "        vertical-align: middle;\n",
       "    }\n",
       "\n",
       "    .dataframe tbody tr th {\n",
       "        vertical-align: top;\n",
       "    }\n",
       "\n",
       "    .dataframe thead th {\n",
       "        text-align: right;\n",
       "    }\n",
       "</style>\n",
       "<table border=\"1\" class=\"dataframe\">\n",
       "  <thead>\n",
       "    <tr style=\"text-align: right;\">\n",
       "      <th>job_title_short</th>\n",
       "      <th>Data Analyst</th>\n",
       "      <th>Data Engineer</th>\n",
       "      <th>Data Scientist</th>\n",
       "    </tr>\n",
       "    <tr>\n",
       "      <th>job_country</th>\n",
       "      <th></th>\n",
       "      <th></th>\n",
       "      <th></th>\n",
       "    </tr>\n",
       "  </thead>\n",
       "  <tbody>\n",
       "    <tr>\n",
       "      <th>United States</th>\n",
       "      <td>90000.0</td>\n",
       "      <td>125000.0</td>\n",
       "      <td>130000.0</td>\n",
       "    </tr>\n",
       "    <tr>\n",
       "      <th>Sudan</th>\n",
       "      <td>87500.0</td>\n",
       "      <td>127500.0</td>\n",
       "      <td>130000.0</td>\n",
       "    </tr>\n",
       "    <tr>\n",
       "      <th>India</th>\n",
       "      <td>100500.0</td>\n",
       "      <td>147500.0</td>\n",
       "      <td>114008.0</td>\n",
       "    </tr>\n",
       "    <tr>\n",
       "      <th>Canada</th>\n",
       "      <td>98500.0</td>\n",
       "      <td>105000.0</td>\n",
       "      <td>122500.0</td>\n",
       "    </tr>\n",
       "    <tr>\n",
       "      <th>United Kingdom</th>\n",
       "      <td>87750.0</td>\n",
       "      <td>110000.0</td>\n",
       "      <td>105300.0</td>\n",
       "    </tr>\n",
       "    <tr>\n",
       "      <th>France</th>\n",
       "      <td>69175.0</td>\n",
       "      <td>98301.5</td>\n",
       "      <td>88128.0</td>\n",
       "    </tr>\n",
       "  </tbody>\n",
       "</table>\n",
       "</div>"
      ],
      "text/plain": [
       "job_title_short  Data Analyst  Data Engineer  Data Scientist\n",
       "job_country                                                 \n",
       "United States         90000.0       125000.0        130000.0\n",
       "Sudan                 87500.0       127500.0        130000.0\n",
       "India                100500.0       147500.0        114008.0\n",
       "Canada                98500.0       105000.0        122500.0\n",
       "United Kingdom        87750.0       110000.0        105300.0\n",
       "France                69175.0        98301.5         88128.0"
      ]
     },
     "execution_count": 13,
     "metadata": {},
     "output_type": "execute_result"
    }
   ],
   "source": [
    "sol_pt = df_clean_pt.loc[top_countries]\n",
    "sol_pt"
   ]
  },
  {
   "cell_type": "code",
   "execution_count": 14,
   "metadata": {},
   "outputs": [
    {
     "data": {
      "image/png": "[encoded data removed]",
      "text/plain": [
       "<Figure size 640x480 with 1 Axes>"
      ]
     },
     "metadata": {},
     "output_type": "display_data"
    }
   ],
   "source": [
    "sol_pt.plot(kind = \"bar\")\n",
    "plt.xlabel(\"Country\")\n",
    "plt.ylabel(\"Median Salary\")\n",
    "plt.title(\"Median Salary VS Job Profile\")\n",
    "plt.xticks(rotation = 45 , ha = \"center\")\n",
    "plt.legend()\n",
    "plt.show()"
   ]
  },
  {
   "cell_type": "code",
   "execution_count": null,
   "metadata": {},
   "outputs": [],
   "source": []
  }
 ],
 "metadata": {
  "kernelspec": {
   "display_name": "luke_python_course",
   "language": "python",
   "name": "python3"
  },
  "language_info": {
   "codemirror_mode": {
    "name": "ipython",
    "version": 3
   },
   "file_extension": ".py",
   "mimetype": "text/x-python",
   "name": "python",
   "nbconvert_exporter": "python",
   "pygments_lexer": "ipython3",
   "version": "3.11.11"
  }
 },
 "nbformat": 4,
 "nbformat_minor": 2
}
